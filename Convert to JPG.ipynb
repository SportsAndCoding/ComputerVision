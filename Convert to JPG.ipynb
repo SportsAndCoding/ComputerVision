{
 "cells": [
  {
   "cell_type": "code",
   "execution_count": null,
   "id": "a9e68b78",
   "metadata": {},
   "outputs": [],
   "source": [
    "from PIL import Image\n",
    "import os\n",
    "import sys\n",
    "file=\"toJPG.png\"\n",
    "filename = file.split(\".\")\n",
    "img = Image.open(file)\n",
    "new_name = filename[0] + \".jpg\"\n",
    "converted_img = img.convert('RGB')\n",
    "converted_img.save(new_name)"
   ]
  }
 ],
 "metadata": {
  "kernelspec": {
   "display_name": "Python 3 (ipykernel)",
   "language": "python",
   "name": "python3"
  },
  "language_info": {
   "codemirror_mode": {
    "name": "ipython",
    "version": 3
   },
   "file_extension": ".py",
   "mimetype": "text/x-python",
   "name": "python",
   "nbconvert_exporter": "python",
   "pygments_lexer": "ipython3",
   "version": "3.9.12"
  }
 },
 "nbformat": 4,
 "nbformat_minor": 5
}
