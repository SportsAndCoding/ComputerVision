{
 "cells": [
  {
   "cell_type": "code",
   "execution_count": null,
   "id": "f37bbdc2",
   "metadata": {},
   "outputs": [],
   "source": [
    "from PIL import Image\n",
    "import os\n",
    "\n",
    "input_folder = '/path/to/images'\n",
    "output_folder = '/path/to/resized_images'\n",
    "desired_size = (100, 100)\n",
    "\n",
    "for filename in os.listdir(input_folder):\n",
    "    with Image.open(os.path.join(input_folder, filename)) as img:\n",
    "        img.thumbnail(desired_size)\n",
    "        img.save(os.path.join(output_folder, filename))"
   ]
  }
 ],
 "metadata": {
  "kernelspec": {
   "display_name": "Python 3 (ipykernel)",
   "language": "python",
   "name": "python3"
  },
  "language_info": {
   "codemirror_mode": {
    "name": "ipython",
    "version": 3
   },
   "file_extension": ".py",
   "mimetype": "text/x-python",
   "name": "python",
   "nbconvert_exporter": "python",
   "pygments_lexer": "ipython3",
   "version": "3.9.12"
  }
 },
 "nbformat": 4,
 "nbformat_minor": 5
}
