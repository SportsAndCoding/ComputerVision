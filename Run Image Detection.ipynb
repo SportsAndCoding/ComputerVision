{
 "cells": [
  {
   "cell_type": "code",
   "execution_count": null,
   "id": "d3ad0481",
   "metadata": {},
   "outputs": [],
   "source": [
    "!pip install --upgrade h5py==2.10.0\n",
    "!wget https://pysource.com/extra_files/Mask_RCNN_basic_1.zip\n",
    "!unzip Mask_RCNN_basic_1.zip\n",
    "import sys\n",
    "sys.path.append(\"/content/Mask_RCNN/mrcnn\")\n",
    "from m_rcnn import *\n",
    "from visualize import random_colors, get_mask_contours, draw_mask\n",
    "%matplotlib inline"
   ]
  },
  {
   "cell_type": "code",
   "execution_count": null,
   "id": "c317003e",
   "metadata": {},
   "outputs": [],
   "source": [
    "# Load Image\n",
    "img = cv2.imread(\"/content/screwdrivers1.jpg\")\n",
    "\n",
    "test_model, inference_config = load_inference_model(1, \"/content/mask_rcnn_object_0005.h5\")\n",
    "image = cv2.cvtColor(img, cv2.COLOR_BGR2RGB)\n",
    "\n",
    "# Detect results\n",
    "r = test_model.detect([image])[0]\n",
    "colors = random_colors(80)"
   ]
  },
  {
   "cell_type": "code",
   "execution_count": null,
   "id": "d57c4525",
   "metadata": {},
   "outputs": [],
   "source": [
    "from google.colab.patches import cv2_imshow\n",
    "# Get Coordinates and show it on the image\n",
    "object_count = len(r[\"class_ids\"])\n",
    "for i in range(object_count):\n",
    "    # 1. Mask\n",
    "    mask = r[\"masks\"][:, :, i]\n",
    "    contours = get_mask_contours(mask)\n",
    "    for cnt in contours:\n",
    "        cv2.polylines(img, [cnt], True, colors[i], 2)\n",
    "        img = draw_mask(img, [cnt], colors[i])\n",
    "\n",
    "cv2_imshow(img)"
   ]
  },
  {
   "cell_type": "code",
   "execution_count": null,
   "id": "758d68e4",
   "metadata": {},
   "outputs": [],
   "source": []
  },
  {
   "cell_type": "code",
   "execution_count": null,
   "id": "690101e3",
   "metadata": {},
   "outputs": [],
   "source": []
  },
  {
   "cell_type": "code",
   "execution_count": null,
   "id": "cbe43079",
   "metadata": {},
   "outputs": [],
   "source": []
  },
  {
   "cell_type": "code",
   "execution_count": null,
   "id": "9d475aa0",
   "metadata": {},
   "outputs": [],
   "source": []
  },
  {
   "cell_type": "code",
   "execution_count": null,
   "id": "b1530116",
   "metadata": {},
   "outputs": [],
   "source": []
  },
  {
   "cell_type": "code",
   "execution_count": null,
   "id": "ed91b363",
   "metadata": {},
   "outputs": [],
   "source": []
  }
 ],
 "metadata": {
  "kernelspec": {
   "display_name": "Python 3 (ipykernel)",
   "language": "python",
   "name": "python3"
  },
  "language_info": {
   "codemirror_mode": {
    "name": "ipython",
    "version": 3
   },
   "file_extension": ".py",
   "mimetype": "text/x-python",
   "name": "python",
   "nbconvert_exporter": "python",
   "pygments_lexer": "ipython3",
   "version": "3.9.7"
  }
 },
 "nbformat": 4,
 "nbformat_minor": 5
}
