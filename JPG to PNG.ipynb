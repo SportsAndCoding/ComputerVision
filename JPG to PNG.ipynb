{
 "cells": [
  {
   "cell_type": "code",
   "execution_count": null,
   "id": "d624a466",
   "metadata": {},
   "outputs": [],
   "source": [
    "import os, sys\n",
    "\n",
    "from PIL import Image\n",
    "\n",
    "\n",
    "# Make sure original image ('test.png') is in root directory\n",
    "\n",
    "images = ['test.png']\n",
    "\n",
    "\n",
    "for infile in images:\n",
    "\n",
    "    f, e = os.path.splitext(infile)\n",
    "\n",
    "    outfile = f + '.jpg'\n",
    "\n",
    "    if infile != outfile:\n",
    "\n",
    "        try:\n",
    "\n",
    "            with Image.open(infile) as image:\n",
    "\n",
    "                in_rgb = image.convert('RGB')\n",
    "\n",
    "                in_rgb.save(outfile, 'JPEG')\n",
    "\n",
    "        except OSError:\n",
    "\n",
    "            print('Conversion failed for', infile)"
   ]
  }
 ],
 "metadata": {
  "kernelspec": {
   "display_name": "Python 3 (ipykernel)",
   "language": "python",
   "name": "python3"
  },
  "language_info": {
   "codemirror_mode": {
    "name": "ipython",
    "version": 3
   },
   "file_extension": ".py",
   "mimetype": "text/x-python",
   "name": "python",
   "nbconvert_exporter": "python",
   "pygments_lexer": "ipython3",
   "version": "3.9.12"
  }
 },
 "nbformat": 4,
 "nbformat_minor": 5
}
