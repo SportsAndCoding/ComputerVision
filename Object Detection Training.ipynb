{
 "cells": [
  {
   "cell_type": "code",
   "execution_count": 3,
   "id": "15d15d8c",
   "metadata": {},
   "outputs": [
    {
     "name": "stderr",
     "output_type": "stream",
     "text": [
      "UsageError: Line magic function `%tensorFlow` not found.\n"
     ]
    }
   ],
   "source": [
    "\n",
    "!pip install --upgrade h5py==2.10.0\n",
    "!wget https://pysource.com/extra_files/Mask_RCNN_basic_1.zip\n",
    "!unzip Mask_RCNN_basic_1.zip\n",
    "import sys\n",
    "sys.path.append(\"/content/Mask_RCNN/mrcnn\")\n",
    "from m_rcnn import *\n",
    "%matplotlib inline"
   ]
  },
  {
   "cell_type": "code",
   "execution_count": 7,
   "id": "cbae3ffe",
   "metadata": {},
   "outputs": [
    {
     "ename": "NameError",
     "evalue": "name 'extract_images' is not defined",
     "output_type": "error",
     "traceback": [
      "\u001b[1;31m---------------------------------------------------------------------------\u001b[0m",
      "\u001b[1;31mNameError\u001b[0m                                 Traceback (most recent call last)",
      "\u001b[1;32m~\\AppData\\Local\\Temp/ipykernel_12296/3016805237.py\u001b[0m in \u001b[0;36m<module>\u001b[1;34m\u001b[0m\n\u001b[0;32m      3\u001b[0m \u001b[0mannotations_path\u001b[0m \u001b[1;33m=\u001b[0m \u001b[1;34m\"Pictures/Python/annotations.json\"\u001b[0m\u001b[1;33m\u001b[0m\u001b[1;33m\u001b[0m\u001b[0m\n\u001b[0;32m      4\u001b[0m \u001b[1;33m\u001b[0m\u001b[0m\n\u001b[1;32m----> 5\u001b[1;33m \u001b[0mextract_images\u001b[0m\u001b[1;33m(\u001b[0m\u001b[0mos\u001b[0m\u001b[1;33m.\u001b[0m\u001b[0mpath\u001b[0m\u001b[1;33m.\u001b[0m\u001b[0mjoin\u001b[0m\u001b[1;33m(\u001b[0m\u001b[0mimages_path\u001b[0m\u001b[1;33m)\u001b[0m\u001b[1;33m)\u001b[0m\u001b[1;33m\u001b[0m\u001b[1;33m\u001b[0m\u001b[0m\n\u001b[0m",
      "\u001b[1;31mNameError\u001b[0m: name 'extract_images' is not defined"
     ]
    }
   ],
   "source": [
    "# Extract Images\n",
    "images_path = \"Pictures/Saved Pictures/Zip/Zip\"\n",
    "annotations_path = \"Pictures/Python/annotations.json\"\n",
    "\n",
    "extract_images(os.path.join(\"/content/\",images_path), \"/content/dataset\")\n",
    "extract_images(os.path.join(images_path))\n"
   ]
  },
  {
   "cell_type": "code",
   "execution_count": null,
   "id": "160f8d25",
   "metadata": {},
   "outputs": [],
   "source": [
    "dataset_train = load_image_dataset(os.path.join(\"/content/\", annotations_path), \"/content/dataset\", \"train\")\n",
    "dataset_val = load_image_dataset(os.path.join(\"/content/\", annotations_path), \"/content/dataset\", \"val\")\n",
    "class_number = dataset_train.count_classes()\n",
    "print('Train: %d' % len(dataset_train.image_ids))\n",
    "print('Validation: %d' % len(dataset_val.image_ids))\n",
    "print(\"Classes: {}\".format(class_number))"
   ]
  },
  {
   "cell_type": "code",
   "execution_count": null,
   "id": "677ff277",
   "metadata": {},
   "outputs": [],
   "source": [
    "# Load image samples\n",
    "display_image_samples(dataset_train)"
   ]
  },
  {
   "cell_type": "code",
   "execution_count": null,
   "id": "b6c1b45e",
   "metadata": {},
   "outputs": [],
   "source": [
    "# Load Configuration\n",
    "config = CustomConfig(class_number)\n",
    "#config.display()\n",
    "model = load_training_model(config)"
   ]
  },
  {
   "cell_type": "code",
   "execution_count": null,
   "id": "9350e8fb",
   "metadata": {},
   "outputs": [],
   "source": [
    "# Start Training\n",
    "# This operation might take a long time.\n",
    "train_head(model, dataset_train, dataset_train, config)"
   ]
  },
  {
   "cell_type": "code",
   "execution_count": null,
   "id": "74a99825",
   "metadata": {},
   "outputs": [],
   "source": [
    "# Load Test Model\n",
    "# The latest trained model will be loaded\n",
    "test_model, inference_config = load_test_model(class_number)"
   ]
  },
  {
   "cell_type": "code",
   "execution_count": null,
   "id": "e13a3ba9",
   "metadata": {},
   "outputs": [],
   "source": [
    "# Test on a random image\n",
    "test_random_image(test_model, dataset_val, inference_config)"
   ]
  }
 ],
 "metadata": {
  "kernelspec": {
   "display_name": "Python 3 (ipykernel)",
   "language": "python",
   "name": "python3"
  },
  "language_info": {
   "codemirror_mode": {
    "name": "ipython",
    "version": 3
   },
   "file_extension": ".py",
   "mimetype": "text/x-python",
   "name": "python",
   "nbconvert_exporter": "python",
   "pygments_lexer": "ipython3",
   "version": "3.9.7"
  }
 },
 "nbformat": 4,
 "nbformat_minor": 5
}
