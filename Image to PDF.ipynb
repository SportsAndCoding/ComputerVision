{
 "cells": [
  {
   "cell_type": "code",
   "execution_count": null,
   "id": "59f0e361",
   "metadata": {},
   "outputs": [],
   "source": [
    "import os\n",
    "import img2pdf\n",
    "with open(\"output.pdf\", \"wb\") as file:\n",
    "   file.write(img2pdf.convert([i for i in os.listdir('path to image') if i.endswith(\".jpg\")]))"
   ]
  },
  {
   "cell_type": "code",
   "execution_count": null,
   "id": "66e0c0e3",
   "metadata": {},
   "outputs": [],
   "source": [
    "#multiple images\n",
    "from fpdf import FPDF\n",
    "Pdf = FPDF()\n",
    "\n",
    "list_of_images = [\"wall.jpg\", \"nature.jpg\",\"cat.jpg\"]\n",
    "for i in list_of_images:\n",
    "   Pdf.add_page()\n",
    "   Pdf.image(i,x,y,w,h)\n",
    "   Pdf.output(\"result.pdf\", \"F\")"
   ]
  }
 ],
 "metadata": {
  "kernelspec": {
   "display_name": "Python 3 (ipykernel)",
   "language": "python",
   "name": "python3"
  },
  "language_info": {
   "codemirror_mode": {
    "name": "ipython",
    "version": 3
   },
   "file_extension": ".py",
   "mimetype": "text/x-python",
   "name": "python",
   "nbconvert_exporter": "python",
   "pygments_lexer": "ipython3",
   "version": "3.9.12"
  }
 },
 "nbformat": 4,
 "nbformat_minor": 5
}
